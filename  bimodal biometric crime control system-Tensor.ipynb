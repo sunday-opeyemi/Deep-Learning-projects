{
 "cells": [
  {
   "cell_type": "markdown",
   "id": "7595d521-76ce-4278-9426-f2b2def9ddec",
   "metadata": {},
   "source": [
    "### Project title\n",
    "# Development of a Bimodal Biometric Crime Control System using a Modified Neura Network\n",
    "\n",
    "Bimodal biometric systems represent a strategic evolution in crime control technologies. By leveraging the complementary strengths of face and fingerprint recognition, and harnessing the power of deep learning, these systems offer a robust, reliable, and efficient solution for identity verification in high-stakes security environments."
   ]
  },
  {
   "cell_type": "markdown",
   "id": "431677a9-6d2e-4c34-8693-0dadc38a4842",
   "metadata": {},
   "source": [
    "# Training Strategy\n",
    "### Dataset Preparation\n",
    "Biometric Databases: Use comprehensive datasets that include both modalities, ensuring they represent real-world variability.\n",
    "\n",
    "### Data Augmentation\n",
    "Augment the training set to simulate variations such as different angles, lighting conditions, and partial occlusions. Techniques may include rotation, scaling, and translation.\n",
    "Labeling and Ground Truth: Ensure that each sample is correctly labeled to supervise training.\n",
    "\n",
    "### Training Process\n",
    "Loss Functions: Use cross-entropy loss for classification tasks, potentially combined with additional regularization terms to prevent overfitting.\n",
    "Optimization: Experiment with optimizers like Adam or SGD with momentum. Fine-tune learning rates and implement learning rate decay strategies.\n",
    "Validation: Use a dedicated validation set to monitor model performance and prevent overfitting.\n",
    "\n",
    "### Evaluation Metrics and Testing\n",
    "Accuracy: The overall rate of correct identifications.\n",
    "Receiver Operating Characteristic (ROC) Curve: Used to evaluate the trade-off between true positive rate and false positive rate.\n",
    "Confusion Matrix: Provides detailed insights into classification errors."
   ]
  },
  {
   "cell_type": "markdown",
   "id": "e90bcbc9-61d3-4b23-b433-981dd9b7d030",
   "metadata": {},
   "source": [
    "## Import required libraries"
   ]
  },
  {
   "cell_type": "code",
   "execution_count": 1,
   "id": "05860e26-2ca5-45c2-ba46-ba0d355aadda",
   "metadata": {},
   "outputs": [],
   "source": [
    "import os\n",
    "import cv2\n",
    "import numpy as np\n",
    "import tensorflow as tf\n",
    "from sklearn.model_selection import train_test_split\n",
    "from tensorflow.keras.layers import Input, Conv2D, MaxPooling2D, Flatten, Dense, Concatenate\n",
    "from tensorflow.keras.models import Model\n",
    "from tensorflow.keras.optimizers import Adam\n",
    "from tensorflow.keras.utils import to_categorical\n",
    "import matplotlib.pyplot as plt"
   ]
  },
  {
   "cell_type": "markdown",
   "id": "445bc6ae-4aab-4cb0-8f3d-ecd813ae02ac",
   "metadata": {},
   "source": [
    "# Dataset Preparation\n",
    "\n",
    "Load and preprocess fingerprint images from the given folder.\n",
    "Images are read in grayscale, resized, and normalized."
   ]
  },
  {
   "cell_type": "code",
   "execution_count": 3,
   "id": "56c097f1-02c1-4857-b9cb-cb134be9e972",
   "metadata": {},
   "outputs": [],
   "source": [
    "def load_fingerprints(subject_path):\n",
    "    fingerprints = []\n",
    "    fp_dir = os.path.join(subject_path, \"Fingerprint\")\n",
    "    for fp_file in os.listdir(fp_dir):\n",
    "        if fp_file.endswith(\".BMP\"):\n",
    "            img = cv2.imread(os.path.join(fp_dir, fp_file), cv2.IMREAD_GRAYSCALE)\n",
    "            img = cv2.resize(img, (256, 256))\n",
    "            img = img / 255.0  # Normalize\n",
    "            fingerprints.append(img)\n",
    "    return fingerprints"
   ]
  },
  {
   "cell_type": "markdown",
   "id": "72cb2577-d3af-4078-91b5-0dd509cfdd33",
   "metadata": {},
   "source": [
    "Load and preprocess face images from the given folder.\n",
    "Images are read in grayscale, resized, and normalized."
   ]
  },
  {
   "cell_type": "code",
   "execution_count": 6,
   "id": "5984f212-4369-464f-a457-706f2eb51403",
   "metadata": {},
   "outputs": [],
   "source": [
    "def load_faces(subject_path):\n",
    "    faces = []\n",
    "    \n",
    "    for side in [\"left\", \"right\"]:\n",
    "        eye_dir = os.path.join(subject_path, side)\n",
    "        for eye_file in os.listdir(eye_dir):\n",
    "            if eye_file.endswith(\".bmp\"):\n",
    "                # Read and preprocess the eye image directly\n",
    "                eye_img = cv2.cvtColor(cv2.imread(os.path.join(eye_dir, eye_file)), cv2.COLOR_BGR2RGB)\n",
    "                \n",
    "                # Resize to match input dimensions of the pretrained model\n",
    "                eye_img = cv2.resize(eye_img, (224, 224))  # Standard size for MobileNetV2/VGG16\n",
    "                eye_img = eye_img / 255.0  # Normalize pixel values\n",
    "                \n",
    "                faces.append(eye_img)\n",
    "    return faces"
   ]
  },
  {
   "cell_type": "markdown",
   "id": "689eb7e1-cb9c-4858-88da-44c0cad3d921",
   "metadata": {},
   "source": [
    "### Organize and match face and fingerprint images.\n",
    "\n",
    "Iterates through each subject folder in base_path (e.g., '1' to '45'),\n",
    "loads fingerprint, left face, and right face images, and creates samples.\n",
    "Each sample consists of one fingerprint image paired with a representative\n",
    "left and right face image for that subject."
   ]
  },
  {
   "cell_type": "code",
   "execution_count": 9,
   "id": "e6bdc947-b3f7-4e66-ab6b-cda3610ff7ab",
   "metadata": {},
   "outputs": [],
   "source": [
    "def load_dataset(base_path=\"Project Assignments/Tumininu Akibowale/IRIS and FINGERPRINT DATASET\"):\n",
    "    X_fingerprint = []\n",
    "    X_eyes = []\n",
    "    y = []\n",
    "    \n",
    "    for subject_id in range(1, 46):\n",
    "        subject_path = os.path.join(base_path, str(subject_id))\n",
    "        \n",
    "        # Load fingerprints (10 per subject)\n",
    "        fps = load_fingerprints(subject_path)\n",
    "        # Load eyes (10 per subject)\n",
    "        eyes = load_faces(subject_path)\n",
    "        \n",
    "        # Ensure equal samples (skip if mismatched)\n",
    "        min_samples = min(len(fps), len(eyes))\n",
    "        if min_samples == 0:\n",
    "            print(f\"Skipping subject {subject_id}: No eye/fingerprint data\")\n",
    "            continue\n",
    "            \n",
    "        X_fingerprint.extend(fps[:min_samples])\n",
    "        X_eyes.extend(eyes[:min_samples])\n",
    "        y.extend([subject_id - 1] * min_samples)  # 0-based labels\n",
    "    \n",
    "    # Convert to numpy arrays\n",
    "    X_fingerprint = np.array(X_fingerprint)\n",
    "    X_eyes = np.array(X_eyes)\n",
    "    y = to_categorical(np.array(y), num_classes=45)\n",
    "    \n",
    "    return X_fingerprint, X_eyes, y\n"
   ]
  },
  {
   "cell_type": "markdown",
   "id": "37354631-fa54-45f1-91f8-4c3602dc8738",
   "metadata": {},
   "source": [
    "# Data Modelling\n",
    "\n",
    "We will create neural network that processes three modalities (left face, right face, and fingerprint), fuses their features, and produces a classification output. Each branch uses a simple convolutional neural network (CNN) that extracts a 128-dimensional feature vector. These three feature vectors are then concatenated into a 384-dimensional vector, which is passed through fully connected layers to generate the final predictions."
   ]
  },
  {
   "cell_type": "code",
   "execution_count": 12,
   "id": "506de28c-c3ec-4743-9a01-7d05a6654f87",
   "metadata": {},
   "outputs": [],
   "source": [
    "def build_fingerprint_model(input_shape=(256, 256, 1)):\n",
    "    input = Input(shape=input_shape)\n",
    "    x = Conv2D(32, (3, 3), activation='relu')(input)\n",
    "    x = MaxPooling2D((2, 2))(x)\n",
    "    x = Conv2D(64, (3, 3), activation='relu')(x)\n",
    "    x = MaxPooling2D((2, 2))(x)\n",
    "    x = Flatten()(x)\n",
    "    x = Dense(128, activation='relu')(x)\n",
    "    return Model(inputs=input, outputs=x)"
   ]
  },
  {
   "cell_type": "code",
   "execution_count": 14,
   "id": "21069056-085c-49a3-a348-4ae60481501f",
   "metadata": {},
   "outputs": [],
   "source": [
    "def build_face_model(input_shape=(224, 224, 3)):\n",
    "    input = Input(shape=input_shape)\n",
    "    x = Conv2D(32, (3, 3), activation='relu')(input)\n",
    "    x = MaxPooling2D((2, 2))(x)\n",
    "    x = Conv2D(64, (3, 3), activation='relu')(x)\n",
    "    x = MaxPooling2D((2, 2))(x)\n",
    "    x = Flatten()(x)\n",
    "    x = Dense(128, activation='relu')(x)\n",
    "    return Model(inputs=input, outputs=x)"
   ]
  },
  {
   "cell_type": "code",
   "execution_count": 16,
   "id": "bafbd93e-33e6-445e-b0ad-4336158a4527",
   "metadata": {},
   "outputs": [],
   "source": [
    "def build_fusion_model():\n",
    "    # Input layers\n",
    "    fingerprint_input = Input(shape=(256, 256, 1))\n",
    "    face_input = Input(shape=(224, 224, 3))\n",
    "    \n",
    "    # Get feature extractors\n",
    "    fingerprint_features = build_fingerprint_model()(fingerprint_input)\n",
    "    face_features = build_face_model()(face_input)\n",
    "    \n",
    "    # Concatenate features\n",
    "    combined = Concatenate()([fingerprint_features, face_features])\n",
    "    \n",
    "    # Final classification layers\n",
    "    x = Dense(256, activation='relu')(combined)\n",
    "    x = Dense(128, activation='relu')(x)\n",
    "    output = Dense(45, activation='softmax')(x)  # 45 subjects\n",
    "    \n",
    "    return Model(inputs=[fingerprint_input, face_input], outputs=output)"
   ]
  },
  {
   "cell_type": "markdown",
   "id": "ad99a671-f1ee-41a3-a13b-f3b36521ee29",
   "metadata": {},
   "source": [
    "# Data Splitting\n",
    "\n",
    "We create a BimodalBiometricDataset class that converts the preprocessed NumPy arrays (for fingerprint, left face, and right face) into PIL images, applies transforms (including data augmentation for training), and assigns a numerical label to each subject."
   ]
  },
  {
   "cell_type": "code",
   "execution_count": 19,
   "id": "6c2b6396-8095-4069-ab25-3b2b2d374bda",
   "metadata": {},
   "outputs": [
    {
     "name": "stdout",
     "output_type": "stream",
     "text": [
      "Data splitting successful!\n"
     ]
    }
   ],
   "source": [
    "# 1. Load data\n",
    "X_fp, X_eyes, y = load_dataset()\n",
    "\n",
    "# 2. Add channel dimension to fingerprints\n",
    "X_fp = np.expand_dims(X_fp, axis=-1)\n",
    "\n",
    "# 3. Split paired data\n",
    "X_combined = list(zip(X_fp, X_eyes))\n",
    "X_train, X_test, y_train, y_test = train_test_split(X_combined, y, test_size=0.2, random_state=42)\n",
    "X_fp_train, X_eyes_train = zip(*X_train)\n",
    "X_fp_test, X_eyes_test = zip(*X_test)\n",
    "\n",
    "# 4. Convert to numpy arrays\n",
    "X_fp_train = np.array(X_fp_train)\n",
    "X_eyes_train = np.array(X_eyes_train)\n",
    "X_fp_test = np.array(X_fp_test)\n",
    "X_eyes_test = np.array(X_eyes_test)\n",
    "\n",
    "# 5. Verify\n",
    "assert len(X_fp_train) == len(X_eyes_train) == len(y_train), \"Train set misaligned!\"\n",
    "assert len(X_fp_test) == len(X_eyes_test) == len(y_test), \"Test set misaligned!\"\n",
    "print(\"Data splitting successful!\")\n"
   ]
  },
  {
   "cell_type": "markdown",
   "id": "20d9ae86-cf60-4255-a1b7-87ca2631618e",
   "metadata": {},
   "source": [
    "# Start the training on the data"
   ]
  },
  {
   "cell_type": "code",
   "execution_count": 25,
   "id": "c71dedc3-9f9d-42b4-a8f4-a3c6f96cf08a",
   "metadata": {},
   "outputs": [
    {
     "name": "stdout",
     "output_type": "stream",
     "text": [
      "Epoch 1/20\n",
      "\u001b[1m12/12\u001b[0m \u001b[32m━━━━━━━━━━━━━━━━━━━━\u001b[0m\u001b[37m\u001b[0m \u001b[1m18s\u001b[0m 1s/step - accuracy: 0.0112 - loss: 6.8656 - val_accuracy: 0.0111 - val_loss: 3.8300\n",
      "Epoch 2/20\n",
      "\u001b[1m12/12\u001b[0m \u001b[32m━━━━━━━━━━━━━━━━━━━━\u001b[0m\u001b[37m\u001b[0m \u001b[1m15s\u001b[0m 1s/step - accuracy: 0.0267 - loss: 3.8007 - val_accuracy: 0.0333 - val_loss: 3.8157\n",
      "Epoch 3/20\n",
      "\u001b[1m12/12\u001b[0m \u001b[32m━━━━━━━━━━━━━━━━━━━━\u001b[0m\u001b[37m\u001b[0m \u001b[1m15s\u001b[0m 1s/step - accuracy: 0.0337 - loss: 3.8024 - val_accuracy: 0.0333 - val_loss: 3.8268\n",
      "Epoch 4/20\n",
      "\u001b[1m12/12\u001b[0m \u001b[32m━━━━━━━━━━━━━━━━━━━━\u001b[0m\u001b[37m\u001b[0m \u001b[1m15s\u001b[0m 1s/step - accuracy: 0.0436 - loss: 3.7850 - val_accuracy: 0.0222 - val_loss: 3.8994\n",
      "Epoch 5/20\n",
      "\u001b[1m12/12\u001b[0m \u001b[32m━━━━━━━━━━━━━━━━━━━━\u001b[0m\u001b[37m\u001b[0m \u001b[1m15s\u001b[0m 1s/step - accuracy: 0.1021 - loss: 3.6448 - val_accuracy: 0.0667 - val_loss: 3.9549\n",
      "Epoch 6/20\n",
      "\u001b[1m12/12\u001b[0m \u001b[32m━━━━━━━━━━━━━━━━━━━━\u001b[0m\u001b[37m\u001b[0m \u001b[1m15s\u001b[0m 1s/step - accuracy: 0.1648 - loss: 3.3132 - val_accuracy: 0.0778 - val_loss: 3.8371\n",
      "Epoch 7/20\n",
      "\u001b[1m12/12\u001b[0m \u001b[32m━━━━━━━━━━━━━━━━━━━━\u001b[0m\u001b[37m\u001b[0m \u001b[1m15s\u001b[0m 1s/step - accuracy: 0.2760 - loss: 2.7168 - val_accuracy: 0.1000 - val_loss: 3.9352\n",
      "Epoch 8/20\n",
      "\u001b[1m12/12\u001b[0m \u001b[32m━━━━━━━━━━━━━━━━━━━━\u001b[0m\u001b[37m\u001b[0m \u001b[1m15s\u001b[0m 1s/step - accuracy: 0.4044 - loss: 2.1596 - val_accuracy: 0.1667 - val_loss: 3.5489\n",
      "Epoch 9/20\n",
      "\u001b[1m12/12\u001b[0m \u001b[32m━━━━━━━━━━━━━━━━━━━━\u001b[0m\u001b[37m\u001b[0m \u001b[1m15s\u001b[0m 1s/step - accuracy: 0.5990 - loss: 1.4873 - val_accuracy: 0.2556 - val_loss: 3.2550\n",
      "Epoch 10/20\n",
      "\u001b[1m12/12\u001b[0m \u001b[32m━━━━━━━━━━━━━━━━━━━━\u001b[0m\u001b[37m\u001b[0m \u001b[1m15s\u001b[0m 1s/step - accuracy: 0.7113 - loss: 1.1226 - val_accuracy: 0.3000 - val_loss: 3.3596\n",
      "Epoch 11/20\n",
      "\u001b[1m12/12\u001b[0m \u001b[32m━━━━━━━━━━━━━━━━━━━━\u001b[0m\u001b[37m\u001b[0m \u001b[1m15s\u001b[0m 1s/step - accuracy: 0.8279 - loss: 0.6905 - val_accuracy: 0.3000 - val_loss: 3.8468\n",
      "Epoch 12/20\n",
      "\u001b[1m12/12\u001b[0m \u001b[32m━━━━━━━━━━━━━━━━━━━━\u001b[0m\u001b[37m\u001b[0m \u001b[1m15s\u001b[0m 1s/step - accuracy: 0.9097 - loss: 0.3714 - val_accuracy: 0.4222 - val_loss: 3.2662\n",
      "Epoch 13/20\n",
      "\u001b[1m12/12\u001b[0m \u001b[32m━━━━━━━━━━━━━━━━━━━━\u001b[0m\u001b[37m\u001b[0m \u001b[1m15s\u001b[0m 1s/step - accuracy: 0.9630 - loss: 0.1658 - val_accuracy: 0.3889 - val_loss: 3.8376\n",
      "Epoch 14/20\n",
      "\u001b[1m12/12\u001b[0m \u001b[32m━━━━━━━━━━━━━━━━━━━━\u001b[0m\u001b[37m\u001b[0m \u001b[1m15s\u001b[0m 1s/step - accuracy: 0.9853 - loss: 0.0706 - val_accuracy: 0.3333 - val_loss: 4.5237\n",
      "Epoch 15/20\n",
      "\u001b[1m12/12\u001b[0m \u001b[32m━━━━━━━━━━━━━━━━━━━━\u001b[0m\u001b[37m\u001b[0m \u001b[1m15s\u001b[0m 1s/step - accuracy: 0.9923 - loss: 0.0471 - val_accuracy: 0.3444 - val_loss: 4.5718\n",
      "Epoch 16/20\n",
      "\u001b[1m12/12\u001b[0m \u001b[32m━━━━━━━━━━━━━━━━━━━━\u001b[0m\u001b[37m\u001b[0m \u001b[1m15s\u001b[0m 1s/step - accuracy: 0.9959 - loss: 0.0173 - val_accuracy: 0.4333 - val_loss: 4.1780\n",
      "Epoch 17/20\n",
      "\u001b[1m12/12\u001b[0m \u001b[32m━━━━━━━━━━━━━━━━━━━━\u001b[0m\u001b[37m\u001b[0m \u001b[1m15s\u001b[0m 1s/step - accuracy: 0.9946 - loss: 0.0228 - val_accuracy: 0.4111 - val_loss: 4.3682\n",
      "Epoch 18/20\n",
      "\u001b[1m12/12\u001b[0m \u001b[32m━━━━━━━━━━━━━━━━━━━━\u001b[0m\u001b[37m\u001b[0m \u001b[1m15s\u001b[0m 1s/step - accuracy: 0.9994 - loss: 0.0169 - val_accuracy: 0.4333 - val_loss: 4.1968\n",
      "Epoch 19/20\n",
      "\u001b[1m12/12\u001b[0m \u001b[32m━━━━━━━━━━━━━━━━━━━━\u001b[0m\u001b[37m\u001b[0m \u001b[1m15s\u001b[0m 1s/step - accuracy: 1.0000 - loss: 0.0110 - val_accuracy: 0.4444 - val_loss: 4.4759\n",
      "Epoch 20/20\n",
      "\u001b[1m12/12\u001b[0m \u001b[32m━━━━━━━━━━━━━━━━━━━━\u001b[0m\u001b[37m\u001b[0m \u001b[1m15s\u001b[0m 1s/step - accuracy: 1.0000 - loss: 0.0079 - val_accuracy: 0.4111 - val_loss: 4.4681\n"
     ]
    }
   ],
   "source": [
    "# Build and compile model\n",
    "model = build_fusion_model()\n",
    "model.compile(optimizer=Adam(0.001), loss='categorical_crossentropy', metrics=['accuracy'])\n",
    "\n",
    "# Train\n",
    "history = model.fit(\n",
    "    [X_fp_train, X_eyes_train], y_train,\n",
    "    validation_data=([X_fp_test, X_eyes_test], y_test),\n",
    "    epochs=20,\n",
    "    batch_size=32\n",
    ")"
   ]
  },
  {
   "cell_type": "markdown",
   "id": "1ec9eafa-d59d-4a4e-bcd7-08baa2fb3252",
   "metadata": {},
   "source": [
    "# Check the performance of the model during training "
   ]
  },
  {
   "cell_type": "code",
   "execution_count": 27,
   "id": "d9b490ea-e91f-4a5d-b630-703b347a6adf",
   "metadata": {},
   "outputs": [
    {
     "data": {
      "image/png": "[encoded data removed]",
      "text/plain": [
       "<Figure size 640x480 with 1 Axes>"
      ]
     },
     "metadata": {},
     "output_type": "display_data"
    }
   ],
   "source": [
    "plt.plot(history.history['accuracy'], label='Training Accuracy')\n",
    "plt.plot(history.history['val_accuracy'], label='Validation Accuracy')\n",
    "plt.xlabel('Epochs')\n",
    "plt.ylabel('Accuracy')\n",
    "plt.legend()\n",
    "plt.show()"
   ]
  },
  {
   "cell_type": "markdown",
   "id": "2a268053-a9d2-4ba3-97da-a09f2042645e",
   "metadata": {},
   "source": [
    "# Evaluate the Model"
   ]
  },
  {
   "cell_type": "code",
   "execution_count": 29,
   "id": "b270b3f8-a8ff-4b0d-a35a-840c075007a6",
   "metadata": {},
   "outputs": [
    {
     "name": "stdout",
     "output_type": "stream",
     "text": [
      "\u001b[1m3/3\u001b[0m \u001b[32m━━━━━━━━━━━━━━━━━━━━\u001b[0m\u001b[37m\u001b[0m \u001b[1m1s\u001b[0m 262ms/step\n",
      "False Acceptance Rate (FAR): 0.5889\n",
      "False Rejection Rate (FRR): 0.5889\n"
     ]
    }
   ],
   "source": [
    "from sklearn.metrics import confusion_matrix\n",
    "\n",
    "# Predict test set\n",
    "y_pred = model.predict([X_fp_test, X_eyes_test])\n",
    "y_pred_classes = np.argmax(y_pred, axis=1)\n",
    "y_true_classes = np.argmax(y_test, axis=1)\n",
    "\n",
    "# Confusion matrix\n",
    "cm = confusion_matrix(y_true_classes, y_pred_classes)\n",
    "\n",
    "# Calculate FAR & FRR\n",
    "total_samples = np.sum(cm)\n",
    "genuine_accepts = np.sum(np.diag(cm))\n",
    "false_accepts = np.sum(cm) - genuine_accepts\n",
    "false_rejects = total_samples - genuine_accepts\n",
    "\n",
    "FAR = false_accepts / total_samples\n",
    "FRR = false_rejects / total_samples\n",
    "\n",
    "print(f\"False Acceptance Rate (FAR): {FAR:.4f}\")\n",
    "print(f\"False Rejection Rate (FRR): {FRR:.4f}\")"
   ]
  },
  {
   "cell_type": "markdown",
   "id": "355e7b99-0c85-4c7f-8bcd-eea95220cc4c",
   "metadata": {},
   "source": [
    "# Applying Transfer Learning for Bimodal Biometrics\n",
    "\n",
    "we will use pre-trained \n",
    "networks to extract face and fingerprint features, and then train a new classifier on top.\n",
    "\n",
    "Steps for Transfer Learning\n",
    "Use a Pretrained Model for Face Recognition and Fingerprint Recognition\n",
    "\n",
    "    VGG16 for Fingerprint Recognition\n",
    "\n",
    "    MobileNetV2 for Face Recognition\n",
    "\n",
    "    Extract fingerprint embeddings.\n",
    "\n",
    "    Combine Features and Train a Final Classifier\n",
    "\n",
    "    Train only the last layers, while freezing the backbone models."
   ]
  },
  {
   "cell_type": "markdown",
   "id": "75540c40-50f7-479e-9115-ee595e376866",
   "metadata": {},
   "source": [
    "## Import Pre-trained model "
   ]
  },
  {
   "cell_type": "code",
   "execution_count": 22,
   "id": "744ad9fd-e585-436f-975c-8d5b1c7d3c16",
   "metadata": {},
   "outputs": [],
   "source": [
    "from tensorflow.keras.applications import VGG16, MobileNetV2\n",
    "from tensorflow.keras.models import Sequential\n",
    "from tensorflow.keras.layers import GlobalAveragePooling2D, Dropout\n",
    "from tensorflow.keras.layers import Input, Dense, Lambda\n",
    "from tensorflow.keras.models import Model\n",
    "# import tensorflow_addons as tfa  # For triplet loss"
   ]
  },
  {
   "cell_type": "markdown",
   "id": "8aa90ddd-2a12-4e28-8729-c8795ff6ecb3",
   "metadata": {},
   "source": [
    "## Build pre-trained model for face recognition"
   ]
  },
  {
   "cell_type": "code",
   "execution_count": 25,
   "id": "24f86918-d283-4aa8-b826-4cc8977893c5",
   "metadata": {},
   "outputs": [],
   "source": [
    "def build_pretrained_face_model():\n",
    "    base_model = MobileNetV2(\n",
    "        input_shape=(224, 224, 3),\n",
    "        include_top=False,\n",
    "        weights='imagenet'\n",
    "    )\n",
    "    base_model.trainable = False  # Freeze layers\n",
    "    \n",
    "    model = Sequential([\n",
    "        base_model,\n",
    "        GlobalAveragePooling2D(),\n",
    "        Dense(128, activation='relu'),\n",
    "        Dropout(0.3)\n",
    "    ])\n",
    "    return model"
   ]
  },
  {
   "cell_type": "markdown",
   "id": "38beb88d-2d74-441a-acfe-9f1324642881",
   "metadata": {},
   "source": [
    "## Build pre-trained model for fingerpring recognition"
   ]
  },
  {
   "cell_type": "code",
   "execution_count": 28,
   "id": "728e52a5-9f9c-4b0f-b309-a1af4db8d17a",
   "metadata": {},
   "outputs": [],
   "source": [
    "def build_pretrained_fingerprint_model():\n",
    "    base_model = VGG16(\n",
    "        input_shape=(256, 256, 1),\n",
    "        include_top=False,\n",
    "        weights=None  # Train from scratch (fingerprint-specific)\n",
    "    )\n",
    "    \n",
    "    model = Sequential([\n",
    "        base_model,\n",
    "        Flatten(),\n",
    "        Dense(128, activation='relu'),\n",
    "        Dropout(0.3)\n",
    "    ])\n",
    "    return model\n"
   ]
  },
  {
   "cell_type": "markdown",
   "id": "fca04036-3789-47b9-a2bf-dac61155c40d",
   "metadata": {},
   "source": [
    "## Fusion Model for Pretrained Networks"
   ]
  },
  {
   "cell_type": "code",
   "execution_count": 31,
   "id": "0c72a3ea-031f-4611-b477-3294443e96af",
   "metadata": {},
   "outputs": [],
   "source": [
    "def build_pretrained_fusion_model():\n",
    "    # Input layers\n",
    "    fingerprint_input = Input(shape=(256, 256, 1), name=\"fingerprint_input\")\n",
    "    face_input = Input(shape=(224, 224, 3), name=\"face_input\")\n",
    "    \n",
    "    # Pretrained feature extractors\n",
    "    fingerprint_features = build_pretrained_fingerprint_model()(fingerprint_input)\n",
    "    face_features = build_pretrained_face_model()(face_input)\n",
    "    \n",
    "    # Concatenate features\n",
    "    combined = Concatenate()([fingerprint_features, face_features])\n",
    "    \n",
    "    # Classification head\n",
    "    x = Dense(256, activation='relu')(combined)\n",
    "    x = Dropout(0.5)(x)\n",
    "    output = Dense(45, activation='softmax')(x)\n",
    "    \n",
    "    return Model(\n",
    "        inputs=[fingerprint_input, face_input],\n",
    "        outputs=output,\n",
    "        name=\"Bimodal_Pretrained_Model\"\n",
    "    )"
   ]
  },
  {
   "cell_type": "markdown",
   "id": "fd72db6e-cebd-4e1a-816d-3a0fb716c351",
   "metadata": {},
   "source": [
    "## Train with Triplet Loss to improved discrimination"
   ]
  },
  {
   "cell_type": "code",
   "execution_count": 34,
   "id": "6be4af2f-1f85-4a63-9620-1a2b26c8dbe9",
   "metadata": {},
   "outputs": [],
   "source": [
    "import random\n",
    "\n",
    "def generate_triplets(X_fp, X_eyes, y, num_triplets=1000):\n",
    "    anchors = []\n",
    "    positives = []\n",
    "    negatives = []\n",
    "    \n",
    "    # Get unique subject IDs (0 to 44)\n",
    "    subject_ids = np.unique(np.argmax(y, axis=1))\n",
    "    \n",
    "    for _ in range(num_triplets):\n",
    "        # Randomly pick an anchor subject\n",
    "        anchor_subject = random.choice(subject_ids)\n",
    "        \n",
    "        # Get all fingerprint and eye indices for this subject\n",
    "        anchor_mask = (np.argmax(y, axis=1) == anchor_subject)\n",
    "        anchor_fps = X_fp[anchor_mask]\n",
    "        anchor_eyes = X_eyes[anchor_mask]\n",
    "        \n",
    "        # Randomly pick an anchor and positive pair\n",
    "        anchor_idx = random.randint(0, len(anchor_fps) - 1)\n",
    "        positive_idx = random.randint(0, len(anchor_eyes) - 1)\n",
    "        \n",
    "        # Pick a negative (eye from a different subject)\n",
    "        negative_subject = random.choice([s for s in subject_ids if s != anchor_subject])\n",
    "        negative_mask = (np.argmax(y, axis=1) == negative_subject)\n",
    "        negative_eyes = X_eyes[negative_mask]\n",
    "        negative_idx = random.randint(0, len(negative_eyes) - 1)\n",
    "        \n",
    "        # Append to lists\n",
    "        anchors.append(anchor_fps[anchor_idx])\n",
    "        positives.append(anchor_eyes[positive_idx])\n",
    "        negatives.append(negative_eyes[negative_idx])\n",
    "    \n",
    "    return np.array(anchors), np.array(positives), np.array(negatives)"
   ]
  },
  {
   "cell_type": "code",
   "execution_count": 36,
   "id": "39d4a2b9-5365-44f3-9a81-6e330beac45d",
   "metadata": {},
   "outputs": [
    {
     "name": "stdout",
     "output_type": "stream",
     "text": [
      "Anchors shape: (1000, 256, 256, 1)\n",
      "Positives shape: (1000, 224, 224, 3)\n",
      "Negatives shape: (1000, 224, 224, 3)\n"
     ]
    }
   ],
   "source": [
    "# Generate triplets\n",
    "anchors, positives, negatives = generate_triplets(X_fp_train, X_eyes_train, y_train, num_triplets=1000)\n",
    "print(f\"Anchors shape: {anchors.shape}\")\n",
    "print(f\"Positives shape: {positives.shape}\")\n",
    "print(f\"Negatives shape: {negatives.shape}\")"
   ]
  },
  {
   "cell_type": "markdown",
   "id": "c2db43d3-e17d-42d5-8594-8d249b396f5d",
   "metadata": {},
   "source": [
    "## Training & Fine-Tuning"
   ]
  },
  {
   "cell_type": "code",
   "execution_count": 38,
   "id": "05286d0d-5852-4ca6-abf9-4b6b8abdb6ba",
   "metadata": {},
   "outputs": [
    {
     "name": "stdout",
     "output_type": "stream",
     "text": [
      "Epoch 1/15\n",
      "23/23 [==============================] - 376s 16s/step - loss: 4.0571 - accuracy: 0.0222 - val_loss: 3.7352 - val_accuracy: 0.0889\n",
      "Epoch 2/15\n",
      "23/23 [==============================] - 372s 16s/step - loss: 3.5974 - accuracy: 0.0750 - val_loss: 3.5874 - val_accuracy: 0.1444\n",
      "Epoch 3/15\n",
      "23/23 [==============================] - 350s 15s/step - loss: 3.4053 - accuracy: 0.1111 - val_loss: 3.3503 - val_accuracy: 0.2222\n",
      "Epoch 4/15\n",
      "23/23 [==============================] - 377s 16s/step - loss: 3.1527 - accuracy: 0.1694 - val_loss: 3.0319 - val_accuracy: 0.3000\n",
      "Epoch 5/15\n",
      "23/23 [==============================] - 363s 16s/step - loss: 2.7701 - accuracy: 0.2583 - val_loss: 2.6651 - val_accuracy: 0.4889\n",
      "Epoch 6/15\n",
      "23/23 [==============================] - 363s 16s/step - loss: 2.4906 - accuracy: 0.2972 - val_loss: 2.2987 - val_accuracy: 0.5444\n",
      "Epoch 7/15\n",
      "23/23 [==============================] - 378s 17s/step - loss: 2.1282 - accuracy: 0.3972 - val_loss: 1.9117 - val_accuracy: 0.6111\n",
      "Epoch 8/15\n",
      "23/23 [==============================] - 366s 16s/step - loss: 1.8313 - accuracy: 0.4917 - val_loss: 1.6755 - val_accuracy: 0.6778\n",
      "Epoch 9/15\n",
      "23/23 [==============================] - 366s 16s/step - loss: 1.5749 - accuracy: 0.5500 - val_loss: 1.5033 - val_accuracy: 0.6889\n",
      "Epoch 10/15\n",
      "23/23 [==============================] - 364s 16s/step - loss: 1.4403 - accuracy: 0.5944 - val_loss: 1.2646 - val_accuracy: 0.7333\n",
      "Epoch 11/15\n",
      "23/23 [==============================] - 372s 16s/step - loss: 1.2303 - accuracy: 0.6556 - val_loss: 1.0903 - val_accuracy: 0.7333\n",
      "Epoch 12/15\n",
      "23/23 [==============================] - 375s 16s/step - loss: 1.1003 - accuracy: 0.6750 - val_loss: 1.0033 - val_accuracy: 0.8333\n",
      "Epoch 13/15\n",
      "23/23 [==============================] - 367s 16s/step - loss: 0.9853 - accuracy: 0.7194 - val_loss: 0.8203 - val_accuracy: 0.8111\n",
      "Epoch 14/15\n",
      "23/23 [==============================] - 392s 17s/step - loss: 0.8187 - accuracy: 0.7750 - val_loss: 0.9013 - val_accuracy: 0.8444\n",
      "Epoch 15/15\n",
      "23/23 [==============================] - 342s 15s/step - loss: 0.7920 - accuracy: 0.7750 - val_loss: 0.6371 - val_accuracy: 0.8556\n"
     ]
    }
   ],
   "source": [
    "model = build_pretrained_fusion_model()\n",
    "model.compile(\n",
    "    optimizer=Adam(0.001),\n",
    "    loss='categorical_crossentropy',\n",
    "    metrics=['accuracy']\n",
    ")\n",
    "\n",
    "history = model.fit(\n",
    "    [X_fp_train, X_eyes_train], y_train,\n",
    "    validation_data=([X_fp_test, X_eyes_test], y_test),\n",
    "    epochs=15,\n",
    "    batch_size=16\n",
    ")"
   ]
  },
  {
   "cell_type": "markdown",
   "id": "b512b00c-c7d4-40d3-8d8d-e9adda5df0be",
   "metadata": {},
   "source": [
    "## Evaluate Pretrained Model"
   ]
  },
  {
   "cell_type": "code",
   "execution_count": 61,
   "id": "98ecc850-9f51-4f4e-93f7-be8927926099",
   "metadata": {},
   "outputs": [
    {
     "name": "stdout",
     "output_type": "stream",
     "text": [
      "Accuracy: 85.56%\n"
     ]
    }
   ],
   "source": [
    "from sklearn.metrics import accuracy_score\n",
    "\n",
    "accuracy = accuracy_score(y_true_classes, y_pred_classes)\n",
    "print(f\"Accuracy: {accuracy * 100:.2f}%\")"
   ]
  },
  {
   "cell_type": "code",
   "execution_count": 63,
   "id": "375071dc-b74a-4645-acaf-f4359856c7e2",
   "metadata": {},
   "outputs": [
    {
     "name": "stdout",
     "output_type": "stream",
     "text": [
      "              precision    recall  f1-score   support\n",
      "\n",
      "           0       1.00      1.00      1.00         2\n",
      "           1       1.00      0.33      0.50         3\n",
      "           2       1.00      1.00      1.00         2\n",
      "           3       1.00      1.00      1.00         3\n",
      "           4       1.00      1.00      1.00         2\n",
      "           5       1.00      1.00      1.00         3\n",
      "           7       1.00      0.12      0.22         8\n",
      "           8       0.33      1.00      0.50         1\n",
      "           9       0.67      1.00      0.80         2\n",
      "          10       1.00      1.00      1.00         1\n",
      "          11       0.60      1.00      0.75         3\n",
      "          12       0.00      0.00      0.00         1\n",
      "          13       1.00      1.00      1.00         3\n",
      "          14       1.00      1.00      1.00         1\n",
      "          15       1.00      1.00      1.00         2\n",
      "          16       1.00      1.00      1.00         1\n",
      "          17       0.33      1.00      0.50         1\n",
      "          18       1.00      1.00      1.00         3\n",
      "          20       1.00      1.00      1.00         2\n",
      "          21       1.00      1.00      1.00         2\n",
      "          22       1.00      1.00      1.00         2\n",
      "          23       1.00      1.00      1.00         1\n",
      "          24       1.00      1.00      1.00         1\n",
      "          26       0.50      1.00      0.67         1\n",
      "          27       0.50      1.00      0.67         1\n",
      "          28       1.00      1.00      1.00         3\n",
      "          29       1.00      1.00      1.00         3\n",
      "          30       0.00      0.00      0.00         0\n",
      "          31       0.75      1.00      0.86         3\n",
      "          32       1.00      1.00      1.00         1\n",
      "          33       1.00      1.00      1.00         2\n",
      "          34       0.00      0.00      0.00         0\n",
      "          35       1.00      0.50      0.67         4\n",
      "          36       1.00      1.00      1.00         1\n",
      "          37       1.00      1.00      1.00         2\n",
      "          38       1.00      1.00      1.00         2\n",
      "          39       1.00      1.00      1.00         5\n",
      "          40       1.00      1.00      1.00         1\n",
      "          41       1.00      1.00      1.00         1\n",
      "          42       1.00      1.00      1.00         2\n",
      "          43       1.00      1.00      1.00         2\n",
      "          44       1.00      0.83      0.91         6\n",
      "\n",
      "    accuracy                           0.86        90\n",
      "   macro avg       0.85      0.88      0.83        90\n",
      "weighted avg       0.93      0.86      0.85        90\n",
      "\n"
     ]
    }
   ],
   "source": [
    "from sklearn.metrics import classification_report\n",
    "\n",
    "print(classification_report(\n",
    "    y_true_classes, \n",
    "    y_pred_classes, \n",
    "    zero_division=0 "
   ]
  },
  {
   "cell_type": "code",
   "execution_count": 83,
   "id": "4e5c4657-3839-4915-9152-ba207f3e8565",
   "metadata": {},
   "outputs": [
    {
     "data": {
      "image/png": "[encoded data removed]",
      "text/plain": [
       "<Figure size 640x480 with 1 Axes>"
      ]
     },
     "metadata": {},
     "output_type": "display_data"
    }
   ],
   "source": [
    "plt.plot(history.history['accuracy'], label='Training Accuracy')\n",
    "plt.plot(history.history['val_accuracy'], label='Validation Accuracy')\n",
    "plt.xlabel('Epochs')\n",
    "plt.ylabel('Accuracy')\n",
    "plt.legend()\n",
    "plt.show()"
   ]
  },
  {
   "cell_type": "code",
   "execution_count": null,
   "id": "ec2115c3-b2e9-4791-ae45-4dcbf952682d",
   "metadata": {},
   "outputs": [],
   "source": []
  }
 ],
 "metadata": {
  "kernelspec": {
   "display_name": "Python 3 (ipykernel)",
   "language": "python",
   "name": "python3"
  },
  "language_info": {
   "codemirror_mode": {
    "name": "ipython",
    "version": 3
   },
   "file_extension": ".py",
   "mimetype": "text/x-python",
   "name": "python",
   "nbconvert_exporter": "python",
   "pygments_lexer": "ipython3",
   "version": "3.11.7"
  }
 },
 "nbformat": 4,
 "nbformat_minor": 5
}
